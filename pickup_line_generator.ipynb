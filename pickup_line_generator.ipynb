{
  "nbformat": 4,
  "nbformat_minor": 0,
  "metadata": {
    "accelerator": "GPU",
    "colab": {
      "name": "pickup_line_generator.ipynb",
      "provenance": [],
      "collapsed_sections": []
    },
    "kernelspec": {
      "display_name": "Python 3",
      "name": "python3"
    }
  },
  "cells": [
    {
      "cell_type": "code",
      "metadata": {
        "id": "cf4tDXcjbWfS",
        "colab": {
          "base_uri": "https://localhost:8080/"
        },
        "outputId": "283a8044-34f6-41db-9802-9240370e5ac3"
      },
      "source": [
        "# this is all based on https://minimaxir.com/2019/09/howto-gpt2/\n",
        "\n",
        "%tensorflow_version 1.x\n",
        "!pip install -q gpt-2-simple\n",
        "import gpt_2_simple as gpt2"
      ],
      "execution_count": null,
      "outputs": [
        {
          "output_type": "stream",
          "text": [
            "TensorFlow 1.x selected.\n",
            "WARNING:tensorflow:\n",
            "The TensorFlow contrib module will not be included in TensorFlow 2.0.\n",
            "For more information, please see:\n",
            "  * https://github.com/tensorflow/community/blob/master/rfcs/20180907-contrib-sunset.md\n",
            "  * https://github.com/tensorflow/addons\n",
            "  * https://github.com/tensorflow/io (for I/O related ops)\n",
            "If you depend on functionality not listed there, please file an issue.\n",
            "\n"
          ],
          "name": "stdout"
        }
      ]
    },
    {
      "cell_type": "code",
      "metadata": {
        "colab": {
          "base_uri": "https://localhost:8080/"
        },
        "id": "IL0MJhHybyAi",
        "outputId": "2ff9ceaf-d0dc-43d7-c220-79c0d10bcb93"
      },
      "source": [
        "model_name = \"355M\"\n",
        "gpt2.download_gpt2(model_name=model_name)"
      ],
      "execution_count": null,
      "outputs": [
        {
          "output_type": "stream",
          "text": [
            "Fetching checkpoint: 1.05Mit [00:00, 297Mit/s]                                                      \n",
            "Fetching encoder.json: 1.05Mit [00:00, 3.26Mit/s]\n",
            "Fetching hparams.json: 1.05Mit [00:00, 747Mit/s]                                                    \n",
            "Fetching model.ckpt.data-00000-of-00001: 1.42Git [00:38, 37.1Mit/s]                                 \n",
            "Fetching model.ckpt.index: 1.05Mit [00:00, 542Mit/s]                                                \n",
            "Fetching model.ckpt.meta: 1.05Mit [00:00, 4.01Mit/s]\n",
            "Fetching vocab.bpe: 1.05Mit [00:00, 4.62Mit/s]\n"
          ],
          "name": "stderr"
        }
      ]
    },
    {
      "cell_type": "code",
      "metadata": {
        "colab": {
          "base_uri": "https://localhost:8080/"
        },
        "id": "vAI-ndBU5zPi",
        "outputId": "2ddeb365-4b4b-48ed-9f47-58a58b284338"
      },
      "source": [
        "from google.colab import drive\n",
        "drive.mount('/content/drive')\n",
        "gpt2.mount_gdrive()"
      ],
      "execution_count": null,
      "outputs": [
        {
          "output_type": "stream",
          "text": [
            "Drive already mounted at /content/drive; to attempt to forcibly remount, call drive.mount(\"/content/drive\", force_remount=True).\n",
            "Drive already mounted at /content/drive; to attempt to forcibly remount, call drive.mount(\"/content/drive\", force_remount=True).\n"
          ],
          "name": "stdout"
        }
      ]
    },
    {
      "cell_type": "code",
      "metadata": {
        "colab": {
          "base_uri": "https://localhost:8080/"
        },
        "id": "8bAqNsdaphAH",
        "outputId": "0a60460f-4c32-4e8d-cb2f-63ace6eff390"
      },
      "source": [
        "!nvidia-smi"
      ],
      "execution_count": null,
      "outputs": [
        {
          "output_type": "stream",
          "text": [
            "Sun Mar 14 00:27:09 2021       \n",
            "+-----------------------------------------------------------------------------+\n",
            "| NVIDIA-SMI 460.56       Driver Version: 460.32.03    CUDA Version: 11.2     |\n",
            "|-------------------------------+----------------------+----------------------+\n",
            "| GPU  Name        Persistence-M| Bus-Id        Disp.A | Volatile Uncorr. ECC |\n",
            "| Fan  Temp  Perf  Pwr:Usage/Cap|         Memory-Usage | GPU-Util  Compute M. |\n",
            "|                               |                      |               MIG M. |\n",
            "|===============================+======================+======================|\n",
            "|   0  Tesla T4            Off  | 00000000:00:04.0 Off |                    0 |\n",
            "| N/A   63C    P8    11W /  70W |      0MiB / 15109MiB |      0%      Default |\n",
            "|                               |                      |                  N/A |\n",
            "+-------------------------------+----------------------+----------------------+\n",
            "                                                                               \n",
            "+-----------------------------------------------------------------------------+\n",
            "| Processes:                                                                  |\n",
            "|  GPU   GI   CI        PID   Type   Process name                  GPU Memory |\n",
            "|        ID   ID                                                   Usage      |\n",
            "|=============================================================================|\n",
            "|  No running processes found                                                 |\n",
            "+-----------------------------------------------------------------------------+\n"
          ],
          "name": "stdout"
        }
      ]
    },
    {
      "cell_type": "code",
      "metadata": {
        "id": "eqQZfZfb9noz"
      },
      "source": [
        "run_name = 'run2'"
      ],
      "execution_count": null,
      "outputs": []
    },
    {
      "cell_type": "code",
      "metadata": {
        "colab": {
          "base_uri": "https://localhost:8080/"
        },
        "id": "ns9euxRrcAWn",
        "outputId": "9d55976a-08f9-40d0-de14-838af67b7043"
      },
      "source": [
        "sess = gpt2.start_tf_sess()\n",
        "\"\"\"change model to 355M\"\"\"\n",
        "gpt2.finetune(sess,\n",
        "              dataset='data.txt',\n",
        "              model_name=model_name,\n",
        "              steps=1000,\n",
        "              restore_from='fresh',\n",
        "              run_name=run_name,\n",
        "              print_every=10,\n",
        "              sample_every=200,\n",
        "              save_every=500\n",
        "              )"
      ],
      "execution_count": null,
      "outputs": [
        {
          "output_type": "stream",
          "text": [
            "WARNING:tensorflow:From /usr/local/lib/python3.7/dist-packages/gpt_2_simple/src/sample.py:17: where (from tensorflow.python.ops.array_ops) is deprecated and will be removed in a future version.\n",
            "Instructions for updating:\n",
            "Use tf.where in 2.0, which has the same broadcast rule as np.where\n",
            "WARNING:tensorflow:From /usr/local/lib/python3.7/dist-packages/gpt_2_simple/src/memory_saving_gradients.py:62: get_backward_walk_ops (from tensorflow.contrib.graph_editor.select) is deprecated and will be removed after 2019-06-06.\n",
            "Instructions for updating:\n",
            "Please use tensorflow.python.ops.op_selector.get_backward_walk_ops.\n",
            "Loading checkpoint models/355M/model.ckpt\n",
            "INFO:tensorflow:Restoring parameters from models/355M/model.ckpt\n"
          ],
          "name": "stdout"
        },
        {
          "output_type": "stream",
          "text": [
            "\r  0%|          | 0/1 [00:00<?, ?it/s]"
          ],
          "name": "stderr"
        },
        {
          "output_type": "stream",
          "text": [
            "Loading dataset...\n"
          ],
          "name": "stdout"
        },
        {
          "output_type": "stream",
          "text": [
            "100%|██████████| 1/1 [00:01<00:00,  1.84s/it]\n"
          ],
          "name": "stderr"
        },
        {
          "output_type": "stream",
          "text": [
            "dataset has 329599 tokens\n",
            "Training...\n",
            "[10 | 22.38] loss=3.08 avg=3.08\n",
            "[20 | 37.60] loss=3.00 avg=3.04\n",
            "[30 | 53.12] loss=3.14 avg=3.07\n",
            "[40 | 68.88] loss=2.62 avg=2.96\n",
            "[50 | 84.97] loss=3.09 avg=2.99\n",
            "[60 | 101.36] loss=2.33 avg=2.88\n",
            "[70 | 117.63] loss=3.04 avg=2.90\n",
            "[80 | 133.69] loss=1.88 avg=2.77\n",
            "[90 | 149.67] loss=2.46 avg=2.73\n",
            "[100 | 165.75] loss=2.57 avg=2.71\n",
            "[110 | 181.91] loss=2.84 avg=2.73\n",
            "[120 | 198.15] loss=2.44 avg=2.70\n",
            "[130 | 214.35] loss=1.67 avg=2.62\n",
            "[140 | 230.50] loss=2.98 avg=2.64\n",
            "[150 | 246.63] loss=2.35 avg=2.62\n",
            "[160 | 262.77] loss=2.46 avg=2.61\n",
            "[170 | 278.89] loss=1.75 avg=2.56\n",
            "[180 | 295.05] loss=2.64 avg=2.56\n",
            "[190 | 311.19] loss=2.73 avg=2.57\n",
            "[200 | 327.36] loss=2.23 avg=2.55\n",
            "======== SAMPLE 1 ========\n",
            " pistol, and a small amount of blood. He's like an asshole. If you don't get me, you don't owe me a cent.\n",
            "I see you're a little bit nervous, I bet I'm your best match. What's a little nervous about you?\n",
            "I'll show you my 'doubles'\n",
            "I'm good at chess, let's get some on the table.\n",
            "Ladies and gentlemen. The year is 2014, and I am ready to conquer the world.\n",
            "You are the best fighter I have ever fought, I will fight to the death with you!\n",
            "I'm an expert at playing the game. If you want to play, let 'em come with me.\n",
            "Ladies and gentlemen. I have never fought so many people, and I will do it all against you.\n",
            "I have a good feeling about me. Let me make you happy in the best way possible.\n",
            "No more excuses. Just go out and play.\n",
            "I'm here to play chess. Let's get some action on there.\n",
            "Ladies and gentlemen, I am ready to lay everything on the line when we play.\n",
            "I know you have a lot on your mind, so let me turn your mind to my next move.\n",
            "I'm going to show you my dirty game.\n",
            "No one likes an asshole, but I have a feeling you will be no less than pleased to see me.\n",
            "You have been waiting all day for a chance to play with a real man. It's not every day that a woman actually gets to use that word.\n",
            "I never know when I'm going to get a chance to see you, but when I do it feels like a miracle.\n",
            "I'd love to share a chess game. Would you like to join me?\n",
            "I'm not sure if I've ever won a chess match, but I sure can't wait to see you.\n",
            "I can make your dreams come true.\n",
            "I promise I'll never say no to anything.\n",
            "I'm not good at chess, do you play many?\n",
            "You are my queen, I would love to have you as my pawn.\n",
            "I'm good at board games, can I have a little piece of you?\n",
            "I'll use my wobbly for maximum leverage.\n",
            "I'd totally go on a date with you.\n",
            "Am I dreaming? You are a girl who dreams come true.\n",
            "Hey baby, wanna play a game?\n",
            "I am good at chess, wanna go one on one with me?\n",
            "Do you want to play a game of chess?\n",
            "Did you play chess in junior high? Because I can tell you won't be disappointed.\n",
            "I bet you're good at chess but I doubt that I can get you to win just one time.\n",
            "I know it doesn't look very high school, but we have a real competition going on right over here.\n",
            "How about you? Would you like to play a little chess with me?\n",
            "Can I check your pulse, this game has a high risk of death.\n",
            "Hey girl I want to play chess with the perfect scores…\n",
            "I'll go all in for you if you give me a chance\n",
            "I will destroy you with my pawn if you give me a chance\n",
            "I'll make you want to be great at chess.\n",
            "I'll never lose for love, never miss a tournament.\n",
            "If love is chess, then I am a master.\n",
            "If I were a chess player, I'd win every time you played me – but that's just me!\n",
            "Let me take you to the net and play you a few of my moves.\n",
            "No one can stop me now.\n",
            "Never give up. Never give in. Never give up. Never surrender.\n",
            "No matter what, I will never give up.\n",
            "If you take a step towards me, I'll back you up.\n",
            "If we were playing a game of chess, I'd always win in the first two moves. But it's a different story if you got me with your love.\n",
            "If I were a chess piece, I'd never let you slip.\n",
            "Let's play some chess and see which one can take you to the net first.\n",
            "Never stop moving forward.\n",
            "No time to lose. Just move forward until you reach the end.\n",
            "Never surrender my love.\n",
            "No time to lose. Just move forward until you reach the end.\n",
            "One play in a thousand takes your breath away. You know how many chess games they have been through.\n",
            "Stop for a moment and think about what you are feeling right now...\n",
            "This is a good game… I am going to play you really well.\n",
            "They say a little girl learns from experience... but I say she should never go out without a plan.\n",
            "We must be friends. We must go through a lot… but there is always a way out.\n",
            "You are a lot of chess pieces. So can I get a piece from you.\n",
            "You are my favorite player yet, because I\n",
            "\n",
            "[210 | 366.36] loss=2.75 avg=2.56\n",
            "[220 | 382.63] loss=2.55 avg=2.56\n",
            "[230 | 398.93] loss=2.02 avg=2.54\n",
            "[240 | 415.20] loss=2.92 avg=2.56\n",
            "[250 | 431.47] loss=2.65 avg=2.56\n",
            "[260 | 447.73] loss=2.87 avg=2.57\n",
            "[270 | 463.96] loss=2.21 avg=2.56\n",
            "[280 | 480.23] loss=2.28 avg=2.55\n",
            "[290 | 496.49] loss=3.06 avg=2.57\n",
            "[300 | 512.76] loss=2.59 avg=2.57\n",
            "[310 | 529.05] loss=1.86 avg=2.54\n",
            "[320 | 545.27] loss=2.25 avg=2.53\n",
            "[330 | 561.55] loss=2.28 avg=2.52\n",
            "[340 | 577.84] loss=1.84 avg=2.50\n",
            "[350 | 594.12] loss=2.51 avg=2.50\n",
            "[360 | 610.41] loss=3.30 avg=2.52\n",
            "[370 | 626.67] loss=1.82 avg=2.50\n",
            "[380 | 642.94] loss=1.92 avg=2.48\n",
            "[390 | 659.23] loss=2.49 avg=2.48\n",
            "[400 | 675.51] loss=1.73 avg=2.46\n",
            "======== SAMPLE 1 ========\n",
            " my... body, it's a good feeling.\n",
            "Do you think it's cute I got to get an eyepatch after that ? I bet it gives me an eyepatch.\n",
            "Do you believe in love at first sight or do I need to convince you?\n",
            "Do you know karate ? Because you just kicked a moving target!\n",
            "Excuse me, I need help with this math test I'm taking.\n",
            "First date you just proved to be a success. Your name is _______ and I'll name my kids after you.\n",
            "Forget I-4 - I got you in me.\n",
            "Girl, if you were a car I would use you for some quick travel.\n",
            "Girl, if you were a car..I would use you for some quick travel.\n",
            "Girl, let's get you out of those clothes and into the car.\n",
            "Girl, they say I'm the fastest person in the world, but girl I'm not even that when I'm talking to you.\n",
            "Girl, no matter what your relationship may be, I am going to respect your wishes.\n",
            "Girl, see? You and me, make our own time.\n",
            "Girl, that _____ makes me want to make a _____ out of you.\n",
            "Girl, you are going to give me a run-down car.\n",
            "Girl, you are going to make me stop at traffic light and pull over until I see a green light.\n",
            "Girl, you are so hot, so cool and so different than what you are!\n",
            "Girl, you've turned me into the man of my dreams.\n",
            "Girl, you've turned my head right into the ether.\n",
            "Girl, you've turned my head left into the abyss.\n",
            "Girl, you've turned my nose up that damn _____.\n",
            "Girl, you've turned me into an _____.\n",
            "Girl, you've given me a time machine.\n",
            "Girl, you've just turned me from a regular guy to a guy who wears Speedo.\n",
            "Girl, you've really turned my head and given me _____.\n",
            "Girl, you've really turned my head into a _____.\n",
            "How'd you like to go to the movies with me?\n",
            "How'd you like to dance? _____.\n",
            "How'd you like to get inside my car? _____.\n",
            "How'd you like to have a threesome with me and my girlfriend. _____.\n",
            "I don't know if you know ___, but I know _______. [You just assumed this.]\n",
            "I see you like _____.\n",
            "I've got a job for you . . . and it's not with the IRS.\n",
            "I’m good at heartbreak...and love at first sight.\n",
            "My car is broken, can I borrow one of yours to fix it?\n",
            "My name's _____.\n",
            "No, I don't need no Speedo, I will take you there when we've figured it out.\n",
            "No, you don’t need no Speedo, you can take me to any park in my car when you get here.\n",
            "Now how’d you like to go out? _____.\n",
            "Oh, you come here often?\n",
            "Oh, I have a funny feeling in my stomach. It’s supposed to burn.\n",
            "On a scale of one to America, how free are you tonight?\n",
            "The answer is _____.\n",
            "There isn't enough free ____ for me. I need a whole new set of keys.\n",
            "We don't take well to liars. Would you like to meet _____?\n",
            "Where do you get those nice cars?\n",
            "Why don’t we go to my place, I’m a car guy.\n",
            "Would you care for some _______ at my place tonight?\n",
            "You and me...we can make our own time.\n",
            "You can call me an electrician's pipe.\n",
            "You have me at 40.\n",
            "You know, my last name must be _____. Because I am in love.\n",
            "You and I would make an ideal couple.\n",
            "You and me, we don't go anywhere without looking at each other.\n",
            "You know, when I call u my girlfriend, the first thing in my mind is you.\n",
            "You make me forget about finding my car keys.\n",
            "You should be helping people in need. _____.\n",
            "You must have taken a ___ class, because you are totally awesome.\n",
            "You sound like a cool girl. How about I help you find her inner cool girl.\n",
            "You're the only object I remember my dad giving me!\n",
            "You're the number _______ I want and _____ need.\n",
            "You're the only girl in this bar, that's why it's called _____.\n",
            "(Waitress) Do you want some _____?\n",
            "Angel, I'm a girl just like your name.\n",
            "(Hector) Can I be your ____?\n",
            "Baby, you're like ______. Just one more reason \n",
            "\n",
            "[410 | 712.26] loss=1.76 avg=2.44\n",
            "[420 | 728.46] loss=2.55 avg=2.44\n",
            "[430 | 744.68] loss=1.50 avg=2.42\n",
            "[440 | 760.90] loss=2.18 avg=2.41\n",
            "[450 | 777.16] loss=2.47 avg=2.41\n",
            "[460 | 793.49] loss=0.91 avg=2.37\n",
            "[470 | 809.82] loss=3.48 avg=2.40\n",
            "[480 | 826.10] loss=2.50 avg=2.40\n",
            "[490 | 842.34] loss=1.37 avg=2.38\n",
            "[500 | 858.61] loss=2.14 avg=2.37\n",
            "Saving checkpoint/run2/model-500\n",
            "[510 | 882.32] loss=2.93 avg=2.38\n",
            "[520 | 898.86] loss=1.89 avg=2.37\n",
            "[530 | 915.25] loss=1.41 avg=2.35\n",
            "[540 | 931.48] loss=2.38 avg=2.35\n",
            "[550 | 947.66] loss=1.59 avg=2.33\n",
            "[560 | 963.83] loss=1.46 avg=2.31\n",
            "[570 | 980.10] loss=2.27 avg=2.31\n",
            "[580 | 996.41] loss=2.10 avg=2.31\n",
            "[590 | 1012.70] loss=1.46 avg=2.29\n",
            "[600 | 1028.98] loss=1.10 avg=2.26\n",
            "======== SAMPLE 1 ========\n",
            " with a bunch of girls at the Super Bowl.\n",
            "I'm gonna party like it's 95º and I'm gonna rock you like none else before or since. \n",
            "If I had a garden I'd put your two lips and my two lips together.\n",
            "If I had to guess, I'd say that you're the best half-time of these playoffs. \n",
            "If I was that hot and you were that cold, you'd be the only thing I'd go into the bathroom with.\n",
            "If the NFL had to have an All-Star Game to determine who is the best, I mean, I don't know... But at least you're outta there. \n",
            "If the NFL had to decide who has the best All-Time, which player would you pick?\n",
            "If you were on a team I'd never play with you because I'd never let you down.\n",
            "I'm not afraid of taking risks. I'm really good at them.\n",
            "I'm not sure how you're gonna react when I tell you this, but you're the nicest person I ever met. Wanna help me discover why?\n",
            "Im not a Super Bowl Champion, but I'd love to see you win a Super Bowl with me\n",
            "Is that a gun in your pocket, or are you all confident in your ability to keep your hands off it?\n",
            "Is your hair frizzy because of the hotness of the Miami climate, or because you're hot and I'm cold.\n",
            "Is your name Earl Campbell? Because you're looking fine.\n",
            "It's gonna be a cold night, won't it? What you are going to choose?\n",
            "Like the NFL says... Stay in! \n",
            "Most people say that football fans are the nicest fans in the NFL, too. I'd like to add one more round to that game winning spree.\n",
            "My name is Jay. You're my favorite.\n",
            "That is some nice jersey you're wearing.\n",
            "You had me at rikie. What a nice ass you have.\n",
            "You know, I'm not really good at football. But I can fix it on Sunday.\n",
            "You look like you could use a good game tonight. And you have a lot to fix that, too.\n",
            "You must be the nicest player I ever seen.\n",
            "You're the nicest person I have ever seen in a bar… ever.   Oh, you can play?\n",
            "Are you from another planet, because all I see are two stars.\n",
            "Are you the queen bee? Because I'm sure you're the only thing on this team.\n",
            "Be my bee.\n",
            "Bee my heart, but don't have to be my queen.\n",
            "Bee my wing.\n",
            "Bee my Wing.\n",
            "Bee my World Cup.\n",
            "Bee my Wembley.\n",
            "Bee my X Factor.\n",
            "Be free tonight, free of charge\n",
            "Be free tonight, free of charge\n",
            "Be free tonight, free of charge\n",
            "Be free tonight, free of charge\n",
            "Being free, I'm always up for anything or giving anything\n",
            "Have you ever met Queen Bee? I bet our kids would be perfect match.\n",
            "Have you ever known one of the nicest and sweetest people on earth?\n",
            "I could see you from miles away. But I'll still love you.\n",
            "Is your name Beyonce? Because I heard you've got a lot of fans.\n",
            "Nice try, girl, but you're going to have to give up your diamonds for me, because you're going to wear them all away tonight.\n",
            "Not only has Beyoncé broken down glass ceiling, but we could also break the glass ceiling of your head.\n",
            "Plays great on the phone, so watch this space.\n",
            "Sorry girl, your clothes are too tight for me to pass you by.\n",
            "This is the hardest part of the process: I never know what Beyoncé's going to give us.\n",
            "Will you be my Beyonce?\n",
            "You can go to my room anytime.\n",
            "You can call me Ice Cube, because I'm a man obsessed.\n",
            "You look sexy on.\n",
            "You put the 'good' in 'hunk' I don't know how to do the 'hunk'.\n",
            "You're too cool for my planet.\n",
            "You're too cool for this world, too. I'm going to take you home now.\n",
            "You're not too beautiful for your beauty\n",
            "You're not gonna believe this, but I have an enormous collection of clothing…I don't even know if I have a wife yet.\n",
            "Are you the one I've been looking for?\n",
            "Are you the one I've been looking for?\n",
            "Are you the one I've been looking for?\n",
            "Awww this is soooo sweet. I can barely hear myself think about you.\n",
            "Aye girl, you've turned me on. I knew it was destined to happen, but it never was supposed to be you.\n",
            "Aye darling, I love seeing you go to sleep every night and come back to life at the end of the night\n",
            "\n",
            "[610 | 1065.68] loss=1.44 avg=2.24\n",
            "[620 | 1081.88] loss=2.08 avg=2.24\n",
            "[630 | 1098.09] loss=1.52 avg=2.22\n",
            "[640 | 1114.36] loss=1.54 avg=2.21\n",
            "[650 | 1130.64] loss=1.89 avg=2.20\n",
            "[660 | 1146.95] loss=2.25 avg=2.20\n",
            "[670 | 1163.26] loss=1.35 avg=2.19\n",
            "[680 | 1179.58] loss=1.07 avg=2.16\n",
            "[690 | 1195.88] loss=2.08 avg=2.16\n",
            "[700 | 1212.19] loss=2.07 avg=2.16\n",
            "[710 | 1228.44] loss=2.93 avg=2.18\n",
            "[720 | 1244.74] loss=2.55 avg=2.18\n",
            "[730 | 1261.02] loss=1.25 avg=2.17\n",
            "[740 | 1277.26] loss=1.78 avg=2.16\n",
            "[750 | 1293.51] loss=1.47 avg=2.14\n",
            "[760 | 1309.77] loss=0.71 avg=2.12\n",
            "[770 | 1326.04] loss=1.39 avg=2.10\n",
            "[780 | 1342.28] loss=1.39 avg=2.09\n",
            "[790 | 1358.53] loss=1.47 avg=2.08\n",
            "[800 | 1374.77] loss=1.50 avg=2.07\n",
            "======== SAMPLE 1 ========\n",
            "'d be your D.E. drill.\n",
            "I've been working with some pretty creative and unconventional new wrenches, are you one of them?\n",
            "If you don't like what you're seeing with your eyes, take it away, OK? You are a pretty good looking girl.\n",
            "If you need a mechanic for that beautiful smile, I have a mechanic for that fine body.\n",
            "If you're wondering what's on the menu at work I'm happy to give you a menu of exciting choices.\n",
            "Is that a mac full of nuts in your pants or are you just happy to see me?\n",
            "Like to race or just chill?\n",
            "Looks like you will need a bucket for this night - I got this when I sat through class this semester.\n",
            "My mac is macaroni so I am really good at love making.\n",
            "Nice pump action you got there, you know.\n",
            "Nice pump action your good looks giving me a boost.\n",
            "Somebody call an assembly line! I need someone to love be with me until I crash.\n",
            "That looks a lot like my high school last year, the Assembly.\n",
            "The only thing that's 'fun' about this group is that we are all new.\n",
            "There are 4 basic body parts, girls... I am gonna eat my way down to the nubuck.\n",
            "They don't call me Woody for nothing!\n",
            "This is a group effort and I am pretty good at my job.\n",
            "We cannot stop making our bodies stand still - stop motion boring me.\n",
            "Whatever you do in the future, know that I am your Woody.\n",
            "What is your Mac address?\n",
            "You are like a pretty face of a year: You remind me of an angel.\n",
            "You know what they say about Woody..\n",
            "You are the girl with the body of a J.Crew model.\n",
            "You look beautiful in your graduation dress.\n",
            "Are you a computer technician? Because I'd like to Apple you.\n",
            "Are you a master bedroom technician? Because I want you to upgrade me.\n",
            "Are you a magician? Because I'm really familiar with your magic moves.\n",
            "Are you certified carpenter? Because I'd like to join you for some wood.\n",
            "Are you confined to your bed too? Because you raise my bar.\n",
            "Be my man or goddess… I can do whatever you want!\n",
            "Because you are my goddess, I will absolutely obey your wishes.\n",
            "Come Home With Me & You Will Love Me Again!\n",
            "Do nothing, be what you want.\n",
            "Excuse me? I have an amazing collection of Barbie dolls, how about we play with them.\n",
            "Girl, you do not need a dictionary to know that I am the most beautiful man on campus.\n",
            "Here's my number, 514-285-1034.\n",
            "Haven't you ever been strung out on a college campus?\n",
            "Here's your dorm room number, so we can do sex on campus anytime, and it will last all night long.\n",
            "Hey diddlediddle-honest-a-thing-like that.\n",
            "Hey, here's a scale model of what I would look like with pants on.\n",
            "How would you like a romantic evening of sex, in bed?\n",
            "I am super duper pick up artist. Will you be the date?\n",
            "I am super horny. Would you like to spend the night with me?\n",
            "I can't have you, I already have you.\n",
            "I couldn't care less whether students at your school opt for the Gothic or the Renaissance.\n",
            "I don't care if you went to prom or anything. Just sleep with me.\n",
            "I didn't know campus carry existed.\n",
            "I didn't think it would work, but it just did, you kissed me goodnight and I am hooked.\n",
            "I hope this isn't a drill, cause I'll shoot everything in my path.\n",
            "I must have had a 1,000 person class assignment…because I am currently bombarded with campus news.\n",
            "I promise I will bring you down\n",
            "I've been studying the layout of vagina for a very long time.\n",
            "I've got all the hall rules you will ever need.\n",
            "I've got you in a do-over mode.\n",
            "I'm really comfortable with oral sex. Would you ever like a SRS?\n",
            "I've studied up on your anatomy really well, you could give me some valuable clinical experience.\n",
            "I'm so glad this is 'dating.' You are my perfect girl.\n",
            "I've taught myself about dating, because I've met so many amazing people on this campus, but I haven't met a single beautiful person through campus.\n",
            "I've tested positive for sexually transmitted infections. I am so embarrassed and ashamed. Would you like to infect another person with HIV?\n",
            "I've got you in a hurry.\n",
            "If you are looking for an empty couch, don't look anymore, I have a place to go.\n",
            "If you would like to come over for a movie night, I think we could do just\n",
            "\n",
            "[810 | 1411.56] loss=1.74 avg=2.06\n",
            "[820 | 1427.81] loss=2.04 avg=2.06\n",
            "[830 | 1444.03] loss=1.36 avg=2.05\n",
            "[840 | 1460.26] loss=1.69 avg=2.04\n",
            "[850 | 1476.50] loss=1.95 avg=2.04\n",
            "[860 | 1492.76] loss=0.81 avg=2.02\n",
            "[870 | 1509.00] loss=0.24 avg=1.99\n",
            "[880 | 1525.25] loss=0.45 avg=1.96\n",
            "[890 | 1541.52] loss=0.88 avg=1.95\n",
            "[900 | 1557.80] loss=1.70 avg=1.94\n",
            "[910 | 1574.05] loss=1.35 avg=1.93\n",
            "[920 | 1590.30] loss=1.71 avg=1.93\n",
            "[930 | 1606.55] loss=2.19 avg=1.93\n",
            "[940 | 1622.81] loss=0.94 avg=1.92\n",
            "[950 | 1639.10] loss=0.92 avg=1.90\n",
            "[960 | 1655.35] loss=1.55 avg=1.89\n",
            "[970 | 1671.61] loss=2.08 avg=1.90\n",
            "[980 | 1687.88] loss=2.04 avg=1.90\n",
            "[990 | 1704.08] loss=1.21 avg=1.89\n",
            "[1000 | 1720.34] loss=0.38 avg=1.86\n",
            "Saving checkpoint/run2/model-1000\n",
            "WARNING:tensorflow:From /tensorflow-1.15.2/python3.7/tensorflow_core/python/training/saver.py:963: remove_checkpoint (from tensorflow.python.training.checkpoint_management) is deprecated and will be removed in a future version.\n",
            "Instructions for updating:\n",
            "Use standard file APIs to delete files with this prefix.\n"
          ],
          "name": "stdout"
        }
      ]
    },
    {
      "cell_type": "code",
      "metadata": {
        "id": "FLffPuqT32yR"
      },
      "source": [
        "gpt2.copy_checkpoint_to_gdrive(run_name=run_name)"
      ],
      "execution_count": null,
      "outputs": []
    },
    {
      "cell_type": "code",
      "metadata": {
        "id": "pMSQFP3V6ZSq"
      },
      "source": [
        "gpt2.copy_checkpoint_from_gdrive(run_name=run_name)"
      ],
      "execution_count": null,
      "outputs": []
    },
    {
      "cell_type": "code",
      "metadata": {
        "colab": {
          "base_uri": "https://localhost:8080/"
        },
        "id": "ITpDeB196deV",
        "outputId": "f84c5033-158c-4c19-ada0-835022cbc4d1"
      },
      "source": [
        "sess = gpt2.start_tf_sess()\n",
        "gpt2.load_gpt2(sess, run_name=run_name)"
      ],
      "execution_count": null,
      "outputs": [
        {
          "output_type": "stream",
          "text": [
            "Loading checkpoint checkpoint/run2/model-1000\n",
            "INFO:tensorflow:Restoring parameters from checkpoint/run2/model-1000\n"
          ],
          "name": "stdout"
        }
      ]
    },
    {
      "cell_type": "code",
      "metadata": {
        "id": "W67mnurR7Ia1"
      },
      "source": [
        "gpt2.generate_to_file(sess,\n",
        "                      destination_path='generated_lines_2.txt',\n",
        "                      run_name=run_name,\n",
        "                      model_name=model_name,\n",
        "                      nsamples=10,\n",
        "                      batch_size=1,\n",
        "                      temperature=1,\n",
        "                      top_k=0,\n",
        "                      top_p=0.9,\n",
        "                      )"
      ],
      "execution_count": null,
      "outputs": []
    }
  ]
}